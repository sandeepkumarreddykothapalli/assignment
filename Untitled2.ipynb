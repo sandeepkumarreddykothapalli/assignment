{
  "nbformat": 4,
  "nbformat_minor": 0,
  "metadata": {
    "colab": {
      "provenance": []
    },
    "kernelspec": {
      "name": "python3",
      "display_name": "Python 3"
    },
    "language_info": {
      "name": "python"
    }
  },
  "cells": [
    {
      "cell_type": "code",
      "execution_count": 2,
      "metadata": {
        "colab": {
          "base_uri": "https://localhost:8080/",
          "height": 710
        },
        "id": "tBC6pA8iMDUK",
        "outputId": "96f52a5e-1476-409c-b70a-630946be0faa"
      },
      "outputs": [
        {
          "output_type": "stream",
          "name": "stdout",
          "text": [
            "\n",
            "1. Get weather\n",
            "2. Get Wind Speed\n",
            "3. Get Pressure\n",
            "0. Exit\n",
            "Enter your choice: 1\n",
            "Enter the date (YYYY-MM-DD): 2\n",
            "The temperature on 2 is 278.76°C\n",
            "\n",
            "1. Get weather\n",
            "2. Get Wind Speed\n",
            "3. Get Pressure\n",
            "0. Exit\n",
            "Enter your choice: 2\n",
            "Enter the date (YYYY-MM-DD): 2\n",
            "The wind speed on 2 is 1.6 m/s\n",
            "\n",
            "1. Get weather\n",
            "2. Get Wind Speed\n",
            "3. Get Pressure\n",
            "0. Exit\n"
          ]
        },
        {
          "output_type": "error",
          "ename": "KeyboardInterrupt",
          "evalue": "ignored",
          "traceback": [
            "\u001b[0;31m---------------------------------------------------------------------------\u001b[0m",
            "\u001b[0;31mKeyboardInterrupt\u001b[0m                         Traceback (most recent call last)",
            "\u001b[0;32m<ipython-input-2-068f6127f38e>\u001b[0m in \u001b[0;36m<cell line: 77>\u001b[0;34m()\u001b[0m\n\u001b[1;32m     76\u001b[0m \u001b[0;34m\u001b[0m\u001b[0m\n\u001b[1;32m     77\u001b[0m \u001b[0;32mif\u001b[0m \u001b[0m__name__\u001b[0m \u001b[0;34m==\u001b[0m \u001b[0;34m\"__main__\"\u001b[0m\u001b[0;34m:\u001b[0m\u001b[0;34m\u001b[0m\u001b[0;34m\u001b[0m\u001b[0m\n\u001b[0;32m---> 78\u001b[0;31m     \u001b[0mmain\u001b[0m\u001b[0;34m(\u001b[0m\u001b[0;34m)\u001b[0m\u001b[0;34m\u001b[0m\u001b[0;34m\u001b[0m\u001b[0m\n\u001b[0m",
            "\u001b[0;32m<ipython-input-2-068f6127f38e>\u001b[0m in \u001b[0;36mmain\u001b[0;34m()\u001b[0m\n\u001b[1;32m     41\u001b[0m     \u001b[0;32mwhile\u001b[0m \u001b[0;32mTrue\u001b[0m\u001b[0;34m:\u001b[0m\u001b[0;34m\u001b[0m\u001b[0;34m\u001b[0m\u001b[0m\n\u001b[1;32m     42\u001b[0m         \u001b[0mprint\u001b[0m\u001b[0;34m(\u001b[0m\u001b[0;34m\"\\n1. Get weather\\n2. Get Wind Speed\\n3. Get Pressure\\n0. Exit\"\u001b[0m\u001b[0;34m)\u001b[0m\u001b[0;34m\u001b[0m\u001b[0;34m\u001b[0m\u001b[0m\n\u001b[0;32m---> 43\u001b[0;31m         \u001b[0mchoice\u001b[0m \u001b[0;34m=\u001b[0m \u001b[0minput\u001b[0m\u001b[0;34m(\u001b[0m\u001b[0;34m\"Enter your choice: \"\u001b[0m\u001b[0;34m)\u001b[0m\u001b[0;34m\u001b[0m\u001b[0;34m\u001b[0m\u001b[0m\n\u001b[0m\u001b[1;32m     44\u001b[0m \u001b[0;34m\u001b[0m\u001b[0m\n\u001b[1;32m     45\u001b[0m         \u001b[0;32mif\u001b[0m \u001b[0mchoice\u001b[0m \u001b[0;34m==\u001b[0m \u001b[0;34m\"1\"\u001b[0m\u001b[0;34m:\u001b[0m\u001b[0;34m\u001b[0m\u001b[0;34m\u001b[0m\u001b[0m\n",
            "\u001b[0;32m/usr/local/lib/python3.10/dist-packages/ipykernel/kernelbase.py\u001b[0m in \u001b[0;36mraw_input\u001b[0;34m(self, prompt)\u001b[0m\n\u001b[1;32m    849\u001b[0m                 \u001b[0;34m\"raw_input was called, but this frontend does not support input requests.\"\u001b[0m\u001b[0;34m\u001b[0m\u001b[0;34m\u001b[0m\u001b[0m\n\u001b[1;32m    850\u001b[0m             )\n\u001b[0;32m--> 851\u001b[0;31m         return self._input_request(str(prompt),\n\u001b[0m\u001b[1;32m    852\u001b[0m             \u001b[0mself\u001b[0m\u001b[0;34m.\u001b[0m\u001b[0m_parent_ident\u001b[0m\u001b[0;34m,\u001b[0m\u001b[0;34m\u001b[0m\u001b[0;34m\u001b[0m\u001b[0m\n\u001b[1;32m    853\u001b[0m             \u001b[0mself\u001b[0m\u001b[0;34m.\u001b[0m\u001b[0m_parent_header\u001b[0m\u001b[0;34m,\u001b[0m\u001b[0;34m\u001b[0m\u001b[0;34m\u001b[0m\u001b[0m\n",
            "\u001b[0;32m/usr/local/lib/python3.10/dist-packages/ipykernel/kernelbase.py\u001b[0m in \u001b[0;36m_input_request\u001b[0;34m(self, prompt, ident, parent, password)\u001b[0m\n\u001b[1;32m    893\u001b[0m             \u001b[0;32mexcept\u001b[0m \u001b[0mKeyboardInterrupt\u001b[0m\u001b[0;34m:\u001b[0m\u001b[0;34m\u001b[0m\u001b[0;34m\u001b[0m\u001b[0m\n\u001b[1;32m    894\u001b[0m                 \u001b[0;31m# re-raise KeyboardInterrupt, to truncate traceback\u001b[0m\u001b[0;34m\u001b[0m\u001b[0;34m\u001b[0m\u001b[0m\n\u001b[0;32m--> 895\u001b[0;31m                 \u001b[0;32mraise\u001b[0m \u001b[0mKeyboardInterrupt\u001b[0m\u001b[0;34m(\u001b[0m\u001b[0;34m\"Interrupted by user\"\u001b[0m\u001b[0;34m)\u001b[0m \u001b[0;32mfrom\u001b[0m \u001b[0;32mNone\u001b[0m\u001b[0;34m\u001b[0m\u001b[0;34m\u001b[0m\u001b[0m\n\u001b[0m\u001b[1;32m    896\u001b[0m             \u001b[0;32mexcept\u001b[0m \u001b[0mException\u001b[0m \u001b[0;32mas\u001b[0m \u001b[0me\u001b[0m\u001b[0;34m:\u001b[0m\u001b[0;34m\u001b[0m\u001b[0;34m\u001b[0m\u001b[0m\n\u001b[1;32m    897\u001b[0m                 \u001b[0mself\u001b[0m\u001b[0;34m.\u001b[0m\u001b[0mlog\u001b[0m\u001b[0;34m.\u001b[0m\u001b[0mwarning\u001b[0m\u001b[0;34m(\u001b[0m\u001b[0;34m\"Invalid Message:\"\u001b[0m\u001b[0;34m,\u001b[0m \u001b[0mexc_info\u001b[0m\u001b[0;34m=\u001b[0m\u001b[0;32mTrue\u001b[0m\u001b[0;34m)\u001b[0m\u001b[0;34m\u001b[0m\u001b[0;34m\u001b[0m\u001b[0m\n",
            "\u001b[0;31mKeyboardInterrupt\u001b[0m: Interrupted by user"
          ]
        }
      ],
      "source": [
        "import requests\n",
        "\n",
        "API_URL = \"https://samples.openweathermap.org/data/2.5/forecast/hourly?q=London,us&appid=b6907d289e10d714a6e88b30761fae22\"\n",
        "\n",
        "\n",
        "def get_weather_data():\n",
        "    response = requests.get(API_URL)\n",
        "    if response.status_code == 200:\n",
        "        return response.json()\n",
        "    else:\n",
        "        print(\"Failed to fetch weather data. Please try again later.\")\n",
        "        return None\n",
        "\n",
        "\n",
        "def get_temp_by_date(weather_data, target_date):\n",
        "    for item in weather_data[\"list\"]:\n",
        "        if item[\"dt_txt\"].startswith(target_date):\n",
        "            return item[\"main\"][\"temp\"]\n",
        "    return None\n",
        "\n",
        "\n",
        "def get_wind_speed_by_date(weather_data, target_date):\n",
        "    for item in weather_data[\"list\"]:\n",
        "        if item[\"dt_txt\"].startswith(target_date):\n",
        "            return item[\"wind\"][\"speed\"]\n",
        "    return None\n",
        "\n",
        "\n",
        "def get_pressure_by_date(weather_data, target_date):\n",
        "    for item in weather_data[\"list\"]:\n",
        "        if item[\"dt_txt\"].startswith(target_date):\n",
        "            return item[\"main\"][\"pressure\"]\n",
        "    return None\n",
        "\n",
        "\n",
        "def main():\n",
        "    weather_data = get_weather_data()\n",
        "    if not weather_data:\n",
        "        return\n",
        "\n",
        "    while True:\n",
        "        print(\"\\n1. Get weather\\n2. Get Wind Speed\\n3. Get Pressure\\n0. Exit\")\n",
        "        choice = input(\"Enter your choice: \")\n",
        "\n",
        "        if choice == \"1\":\n",
        "            date = input(\"Enter the date (YYYY-MM-DD): \")\n",
        "            temp = get_temp_by_date(weather_data, date)\n",
        "            if temp is not None:\n",
        "                print(f\"The temperature on {date} is {temp}°C\")\n",
        "            else:\n",
        "                print(\"No data available for the given date.\")\n",
        "\n",
        "        elif choice == \"2\":\n",
        "            date = input(\"Enter the date (YYYY-MM-DD): \")\n",
        "            wind_speed = get_wind_speed_by_date(weather_data, date)\n",
        "            if wind_speed is not None:\n",
        "                print(f\"The wind speed on {date} is {wind_speed} m/s\")\n",
        "            else:\n",
        "                print(\"No data available for the given date.\")\n",
        "\n",
        "        elif choice == \"3\":\n",
        "            date = input(\"Enter the date (YYYY-MM-DD): \")\n",
        "            pressure = get_pressure_by_date(weather_data, date)\n",
        "            if pressure is not None:\n",
        "                print(f\"The pressure on {date} is {pressure} hPa\")\n",
        "            else:\n",
        "                print(\"No data available for the given date.\")\n",
        "\n",
        "        elif choice == \"0\":\n",
        "            print(\"Exiting the program.\")\n",
        "            break\n",
        "\n",
        "        else:\n",
        "            print(\"Invalid choice. Please try again.\")\n",
        "\n",
        "\n",
        "if __name__ == \"__main__\":\n",
        "    main()"
      ]
    }
  ]
}